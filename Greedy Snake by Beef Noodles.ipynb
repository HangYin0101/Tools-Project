{
 "cells": [
  {
   "cell_type": "code",
   "execution_count": 5,
   "metadata": {},
   "outputs": [
    {
     "name": "stdout",
     "output_type": "stream",
     "text": [
      "pygame 1.9.4\n",
      "Hello from the pygame community. https://www.pygame.org/contribute.html\n"
     ]
    }
   ],
   "source": [
    "import sys\n",
    "import numpy as np\n",
    "from random import random\n",
    "\n",
    "import pygame\n",
    "from pygame.locals import *\n",
    "\n",
    "from Snake import Snake\n",
    "from utils import *"
   ]
  },
  {
   "cell_type": "code",
   "execution_count": 6,
   "metadata": {},
   "outputs": [],
   "source": [
    "# Set background information, colors, blahblah, define keyboard...\n",
    "FrameWidth = 800\n",
    "FrameHeight = 500\n",
    "Grid_Size = 20\n",
    "\n",
    "Grid_W = int(FrameWidth / Grid_Size)\n",
    "Grid_H = int(FrameHeight / Grid_Size)  \n",
    "    \n",
    "HEAD = 0\n",
    "\n",
    "White = (255, 255, 255)\n",
    "Black = (0, 0, 0)\n",
    "Red = (255, 0, 0)\n",
    "Gold = (255, 215, 0)\n",
    "Blue = (0, 0, 255)\n",
    "Gray = (40, 40, 40)\n",
    "RedPink = (249, 91, 91)\n",
    "\n",
    "BackgroundCOLOR = Gold "
   ]
  },
  {
   "cell_type": "code",
   "execution_count": 7,
   "metadata": {},
   "outputs": [],
   "source": [
    "#Main Function\n",
    "\n",
    "def main():\n",
    "    \n",
    "    global Snakespeed_CLOCK, Surfingdisplay, FONT_BASIC\n",
    "\n",
    "    pygame.init()\n",
    "    Snakespeed_CLOCK = pygame.time.Clock()\n",
    "    Surfingdisplay = pygame.display.set_mode((FrameWidth, FrameHeight))\n",
    "    FONT_BASIC = pygame.font.Font('freesansbold.ttf', 18)\n",
    "    pygame.display.set_caption('Snake')\n",
    "\n",
    "    showStartScreen()\n",
    "    while True:\n",
    "        snake = Snake(Grid_W, Grid_H) #parameters\n",
    "        rungame(snake)\n",
    "        showGameOverScreen()"
   ]
  },
  {
   "cell_type": "code",
   "execution_count": 4,
   "metadata": {},
   "outputs": [],
   "source": [
    "#         # if boundaries are hit then die\n",
    "# #         if self.x == -1 or self.x == Grid_W or self.y == -1 or self.head['y'] == Grid_H:\n",
    "# #             return\n",
    "#         for body in self.coordinates[1:]:\n",
    "#             if body['x'] == self.x and body['y'] == self.head['y']:\n",
    "#                 return \n"
   ]
  },
  {
   "cell_type": "code",
   "execution_count": 10,
   "metadata": {},
   "outputs": [],
   "source": [
    "def rungame(snake):\n",
    "    \n",
    "    \n",
    "    # create a group of apples and append to list\n",
    "    apple_list = []\n",
    "    apple_list = [getRandomLocation(Grid_W, Grid_H) for i in range(snake.num_apples)]    \n",
    "    \n",
    "    \n",
    "    # Main game loop\n",
    "    while True:\n",
    "        \n",
    "        for event in pygame.event.get():\n",
    "\n",
    "            # if quit, then terminate\n",
    "            if event.type == QUIT:\n",
    "                terminate()\n",
    "                \n",
    "            # if direction key is pressed, change direction if not opposite direction\n",
    "            elif event.type == KEYDOWN:\n",
    "                if event.key == K_LEFT :\n",
    "                    snake.change_direction('left')\n",
    "                elif event.key == K_RIGHT:\n",
    "                    snake.change_direction('right')\n",
    "                elif event.key == K_UP:\n",
    "                    snake.change_direction('up')\n",
    "                elif event.key == K_DOWN:\n",
    "                    snake.change_direction('down')\n",
    "\n",
    "            # if space is pressed, the snake speeds up\n",
    "            elif event.key == K_SPACE:\n",
    "                snake.change_speed(5)\n",
    "        \n",
    "        Surfingdisplay.fill(BackgroundCOLOR)\n",
    "        drawGrid()\n",
    "        drawSnake(snake)\n",
    "\n",
    "        \n",
    "        drawApple(apple_list)\n",
    "        \n",
    "        drawScore(snake.length - 3)\n",
    "        \n",
    "        pygame.display.update()\n",
    "        Snakespeed_CLOCK.tick(snake.speed)       \n",
    " \n",
    "                "
   ]
  },
  {
   "cell_type": "code",
   "execution_count": 8,
   "metadata": {},
   "outputs": [
    {
     "ename": "error",
     "evalue": "No available video device",
     "output_type": "error",
     "traceback": [
      "\u001b[0;31m---------------------------------------------------------------------------\u001b[0m",
      "\u001b[0;31merror\u001b[0m                                     Traceback (most recent call last)",
      "\u001b[0;32m<ipython-input-8-bbf3cadb8287>\u001b[0m in \u001b[0;36m<module>\u001b[0;34m()\u001b[0m\n\u001b[1;32m      1\u001b[0m \u001b[0;32mif\u001b[0m \u001b[0m__name__\u001b[0m \u001b[0;34m==\u001b[0m \u001b[0;34m'__main__'\u001b[0m\u001b[0;34m:\u001b[0m\u001b[0;34m\u001b[0m\u001b[0m\n\u001b[1;32m      2\u001b[0m     \u001b[0;32mtry\u001b[0m\u001b[0;34m:\u001b[0m\u001b[0;34m\u001b[0m\u001b[0m\n\u001b[0;32m----> 3\u001b[0;31m         \u001b[0mmain\u001b[0m\u001b[0;34m(\u001b[0m\u001b[0;34m)\u001b[0m\u001b[0;34m\u001b[0m\u001b[0m\n\u001b[0m\u001b[1;32m      4\u001b[0m     \u001b[0;32mexcept\u001b[0m \u001b[0mSystemExit\u001b[0m\u001b[0;34m:\u001b[0m\u001b[0;34m\u001b[0m\u001b[0m\n\u001b[1;32m      5\u001b[0m         \u001b[0;32mpass\u001b[0m\u001b[0;34m\u001b[0m\u001b[0m\n",
      "\u001b[0;32m<ipython-input-7-6ff50acb4396>\u001b[0m in \u001b[0;36mmain\u001b[0;34m()\u001b[0m\n\u001b[1;32m      7\u001b[0m     \u001b[0mpygame\u001b[0m\u001b[0;34m.\u001b[0m\u001b[0minit\u001b[0m\u001b[0;34m(\u001b[0m\u001b[0;34m)\u001b[0m\u001b[0;34m\u001b[0m\u001b[0m\n\u001b[1;32m      8\u001b[0m     \u001b[0mSnakespeed_CLOCK\u001b[0m \u001b[0;34m=\u001b[0m \u001b[0mpygame\u001b[0m\u001b[0;34m.\u001b[0m\u001b[0mtime\u001b[0m\u001b[0;34m.\u001b[0m\u001b[0mClock\u001b[0m\u001b[0;34m(\u001b[0m\u001b[0;34m)\u001b[0m\u001b[0;34m\u001b[0m\u001b[0m\n\u001b[0;32m----> 9\u001b[0;31m     \u001b[0mSurfingdisplay\u001b[0m \u001b[0;34m=\u001b[0m \u001b[0mpygame\u001b[0m\u001b[0;34m.\u001b[0m\u001b[0mdisplay\u001b[0m\u001b[0;34m.\u001b[0m\u001b[0mset_mode\u001b[0m\u001b[0;34m(\u001b[0m\u001b[0;34m(\u001b[0m\u001b[0mFrameWidth\u001b[0m\u001b[0;34m,\u001b[0m \u001b[0mFrameHeight\u001b[0m\u001b[0;34m)\u001b[0m\u001b[0;34m)\u001b[0m\u001b[0;34m\u001b[0m\u001b[0m\n\u001b[0m\u001b[1;32m     10\u001b[0m     \u001b[0mFONT_BASIC\u001b[0m \u001b[0;34m=\u001b[0m \u001b[0mpygame\u001b[0m\u001b[0;34m.\u001b[0m\u001b[0mfont\u001b[0m\u001b[0;34m.\u001b[0m\u001b[0mFont\u001b[0m\u001b[0;34m(\u001b[0m\u001b[0;34m'freesansbold.ttf'\u001b[0m\u001b[0;34m,\u001b[0m \u001b[0;36m18\u001b[0m\u001b[0;34m)\u001b[0m\u001b[0;34m\u001b[0m\u001b[0m\n\u001b[1;32m     11\u001b[0m     \u001b[0mpygame\u001b[0m\u001b[0;34m.\u001b[0m\u001b[0mdisplay\u001b[0m\u001b[0;34m.\u001b[0m\u001b[0mset_caption\u001b[0m\u001b[0;34m(\u001b[0m\u001b[0;34m'Snake'\u001b[0m\u001b[0;34m)\u001b[0m\u001b[0;34m\u001b[0m\u001b[0m\n",
      "\u001b[0;31merror\u001b[0m: No available video device"
     ]
    }
   ],
   "source": [
    "if __name__ == '__main__':\n",
    "    try:\n",
    "        main()\n",
    "    except SystemExit:\n",
    "        pass"
   ]
  },
  {
   "cell_type": "code",
   "execution_count": null,
   "metadata": {},
   "outputs": [],
   "source": [
    "# Define how we want to run the game: apple number, keys functions, when we should add one point and becomes longer\n",
    "# For moving snake, move forward means head +1, tail -1"
   ]
  },
  {
   "cell_type": "code",
   "execution_count": null,
   "metadata": {},
   "outputs": [],
   "source": [
    "# How do we quit? Quit function (head hit body or body hit wall), game over!!\n"
   ]
  },
  {
   "cell_type": "code",
   "execution_count": null,
   "metadata": {},
   "outputs": [],
   "source": [
    "# draw scores, draw snake, draw apple, draw things functions"
   ]
  },
  {
   "cell_type": "code",
   "execution_count": null,
   "metadata": {},
   "outputs": [],
   "source": [
    "# write a main logic to incorporate total functions"
   ]
  },
  {
   "cell_type": "code",
   "execution_count": null,
   "metadata": {},
   "outputs": [],
   "source": [
    "#Game completed!"
   ]
  },
  {
   "cell_type": "code",
   "execution_count": null,
   "metadata": {},
   "outputs": [],
   "source": []
  },
  {
   "cell_type": "code",
   "execution_count": null,
   "metadata": {},
   "outputs": [],
   "source": []
  },
  {
   "cell_type": "code",
   "execution_count": null,
   "metadata": {},
   "outputs": [],
   "source": []
  },
  {
   "cell_type": "code",
   "execution_count": null,
   "metadata": {},
   "outputs": [],
   "source": []
  }
 ],
 "metadata": {
  "kernelspec": {
   "display_name": "Python 3",
   "language": "python",
   "name": "python3"
  },
  "language_info": {
   "codemirror_mode": {
    "name": "ipython",
    "version": 3
   },
   "file_extension": ".py",
   "mimetype": "text/x-python",
   "name": "python",
   "nbconvert_exporter": "python",
   "pygments_lexer": "ipython3",
   "version": "3.6.5"
  }
 },
 "nbformat": 4,
 "nbformat_minor": 2
}
