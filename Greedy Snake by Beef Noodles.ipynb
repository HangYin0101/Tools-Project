{
 "cells": [
  {
   "cell_type": "code",
   "execution_count": 1,
   "metadata": {},
   "outputs": [
    {
     "name": "stdout",
     "output_type": "stream",
     "text": [
      "pygame 1.9.4\n",
      "Hello from the pygame community. https://www.pygame.org/contribute.html\n"
     ]
    }
   ],
   "source": [
    "import random\n",
    "import pygame\n",
    "import sys\n",
    "from pygame.locals import *\n",
    "import numpy as np"
   ]
  },
  {
   "cell_type": "code",
   "execution_count": 1,
   "metadata": {},
   "outputs": [],
   "source": [
    "# Set background information, colors, blahblah, define keyboard...\n",
    "speed = 5\n",
    "FrameWidth = 800\n",
    "FrameHeight = 500\n",
    "Grid_Size = 20\n",
    "\n",
    "assert FrameWidth % Grid_Size == 0, \"Window width must be a multiple of Grid size.\"\n",
    "\n",
    "assert FrameHeight % Grid_Size == 0, \"Window height must be a multiple of Grid size.\"\n",
    "Grid_W = int(FrameWidth / Grid_Size)\n",
    "Grid_H = int(FrameHeight / Grid_Size)\n",
    "\n",
    "\n",
    "apple_count = 10\n",
    "\n",
    "UP = 'up'\n",
    "DOWN = 'down'\n",
    "LEFT = 'left'\n",
    "RIGHT = 'right'\n",
    "\n",
    "HEAD = 0"
   ]
  },
  {
   "cell_type": "code",
   "execution_count": null,
   "metadata": {},
   "outputs": [],
   "source": [
    "#Class Snake\n",
    "\n",
    "class Snake:\n",
    "            \n",
    "    def __init__(self,grid_width, num_apples=10, length=3, speed=10 ):\n",
    "        \n",
    "\n",
    "        self.x = random.randint(5, self.Grid_W - 6)\n",
    "        self.y = random.randint(5,self.Grid_H - 6)\n",
    "        \n",
    "        self.right = True\n",
    "        self.up = True\n",
    "        self.left = True\n",
    "        self.down = True\n",
    "        \n",
    "        self.length = length\n",
    "        self.speed = speed\n",
    "        self.apple_locations = [getRandomLocation() for i in range(num_apples)]\n",
    "            \n",
    "        self.coordinates = [{'x':self.x - i, 'y':self.y} for i in range(self.length)]\n",
    "        self.direction = 'right'\n",
    "        \n",
    "        self.alive = True\n",
    "    \n",
    "    def change_position(x_distance, y_distance):\n",
    "        self.x += x_distance\n",
    "        self.y += y_distance\n",
    "        \n",
    "        self.coordinates = [{'x':self.x - self.right*i + self.left*i, \n",
    "                             'y':self.y - self.up*i + self.down*i for i in range(self.length)}]\n",
    "    \n",
    "    def change_speed(speed_difference):\n",
    "        if self.speed < speed_difference:\n",
    "            #show message \"can't\"\n",
    "        self.speed += speed_difference\n",
    "        \n",
    "    def change_direction(direction):\n",
    "        self.direction = direction\n",
    "        if direction == 'left':\n",
    "            self.left, self.right, self.up, self.down = 1,0,0,0\n",
    "    \n",
    "    def change_color():\n",
    "        return None\n",
    "    \n",
    "    def change_length():\n",
    "        \n",
    "    def add_apple():\n",
    "        \n",
    "    def remove_apple():\n",
    "        \n",
    "    def death():\n",
    "        self.alive = False"
   ]
  },
  {
   "cell_type": "code",
   "execution_count": null,
   "metadata": {},
   "outputs": [],
   "source": [
    "# Show start screen"
   ]
  },
  {
   "cell_type": "code",
   "execution_count": null,
   "metadata": {},
   "outputs": [],
   "source": [
    "# Define how we want to run the game: apple number, keys functions, when we should add one point and becomes longer\n",
    "# For moving snake, move forward means head +1, tail -1"
   ]
  },
  {
   "cell_type": "code",
   "execution_count": null,
   "metadata": {},
   "outputs": [],
   "source": [
    "# How do we quit? Quit function (head hit body or body hit wall), game over!!"
   ]
  },
  {
   "cell_type": "code",
   "execution_count": null,
   "metadata": {},
   "outputs": [],
   "source": [
    "# draw scores, draw snake, draw apple, draw things functions"
   ]
  },
  {
   "cell_type": "code",
   "execution_count": null,
   "metadata": {},
   "outputs": [],
   "source": [
    "# write a main logic to incorporate total functions"
   ]
  },
  {
   "cell_type": "code",
   "execution_count": null,
   "metadata": {},
   "outputs": [],
   "source": [
    "#Game completed!"
   ]
  },
  {
   "cell_type": "code",
   "execution_count": null,
   "metadata": {},
   "outputs": [],
   "source": []
  },
  {
   "cell_type": "code",
   "execution_count": null,
   "metadata": {},
   "outputs": [],
   "source": []
  },
  {
   "cell_type": "code",
   "execution_count": null,
   "metadata": {},
   "outputs": [],
   "source": []
  },
  {
   "cell_type": "code",
   "execution_count": null,
   "metadata": {},
   "outputs": [],
   "source": []
  }
 ],
 "metadata": {
  "kernelspec": {
   "display_name": "Python 3",
   "language": "python",
   "name": "python3"
  },
  "language_info": {
   "codemirror_mode": {
    "name": "ipython",
    "version": 3
   },
   "file_extension": ".py",
   "mimetype": "text/x-python",
   "name": "python",
   "nbconvert_exporter": "python",
   "pygments_lexer": "ipython3",
   "version": "3.6.5"
  }
 },
 "nbformat": 4,
 "nbformat_minor": 2
}
