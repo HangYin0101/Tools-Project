{
 "cells": [
  {
   "cell_type": "code",
   "execution_count": 1,
   "metadata": {},
   "outputs": [
    {
     "name": "stdout",
     "output_type": "stream",
     "text": [
      "pygame 1.9.4\n",
      "Hello from the pygame community. https://www.pygame.org/contribute.html\n"
     ]
    }
   ],
   "source": [
    "import random\n",
    "import pygame\n",
    "import sys\n",
    "from pygame.locals import *\n",
    "import numpy as np"
   ]
  },
  {
   "cell_type": "code",
   "execution_count": 1,
   "metadata": {},
   "outputs": [],
   "source": [
    "# Set background information, colors, blahblah, define keyboard...\n",
    "speed = 5\n",
    "FrameWidth = 800\n",
    "FrameHeight = 500\n",
    "Grid_Size = 20\n",
    "\n",
    "Grid_W = int(FrameWidth / Grid_Size)\n",
    "Grid_H = int(FrameHeight / Grid_Size)  \n",
    "\n",
    "BackgroundCOLOR = Gold \n",
    "    \n",
    "HEAD = 0\n",
    "\n",
    "White = (255, 255, 255)\n",
    "Black = (0, 0, 0)\n",
    "Red = (255, 0, 0)\n",
    "Gold = (255, 215, 0)\n",
    "Blue = (0, 0, 255)\n",
    "Gray = (40, 40, 40)\n",
    "RedPink = (249, 91, 91)\n",
    "\n",
    "\n",
    "# assert FrameWidth % Grid_Size == 0, \"Window width must be a multiple of Grid size.\"\n",
    "\n",
    "# assert FrameHeight % Grid_Size == 0, \"Window height must be a multiple of Grid size.\"\n",
    "\n",
    "apple_count = 10\n",
    "\n",
    "UP = 'up'\n",
    "DOWN = 'down'\n",
    "LEFT = 'left'\n",
    "RIGHT = 'right'"
   ]
  },
  {
   "cell_type": "code",
   "execution_count": null,
   "metadata": {},
   "outputs": [],
   "source": [
    "#Main Function\n",
    "\n",
    "def main():\n",
    "    global Snakespeed_CLOCK, Surfingdisplay, FONT_BASIC\n",
    "\n",
    "    pygame.init()\n",
    "    Snakespeed_CLOCK = pygame.time.Clock()\n",
    "    Surfingdisplay = pygame.display.set_mode((FrameWidth, FrameHeight))\n",
    "    FONT_BASIC = pygame.font.Font('freesansbold.ttf', 18)\n",
    "    pygame.display.set_caption('Snake')\n",
    "\n",
    "    showStartScreen()\n",
    "    while True:\n",
    "        snake = Snake() #parameters)\n",
    "        runGame(snake)\n",
    "        showGameOverScreen()"
   ]
  },
  {
   "cell_type": "code",
   "execution_count": 1,
   "metadata": {},
   "outputs": [
    {
     "ename": "IndentationError",
     "evalue": "expected an indented block (<ipython-input-1-de406641f1c1>, line 51)",
     "output_type": "error",
     "traceback": [
      "\u001b[1;36m  File \u001b[1;32m\"<ipython-input-1-de406641f1c1>\"\u001b[1;36m, line \u001b[1;32m51\u001b[0m\n\u001b[1;33m    self.speed += speed_difference\u001b[0m\n\u001b[1;37m       ^\u001b[0m\n\u001b[1;31mIndentationError\u001b[0m\u001b[1;31m:\u001b[0m expected an indented block\n"
     ]
    }
   ],
   "source": [
    "#Class Snake\n",
    "\n",
    "#Logic\n",
    "#1) define snake = Snake(some parameter) \n",
    "#2) run a function called rungame(snake) \n",
    "#3)rungame function\n",
    "\n",
    "#if eventtype = space 1) run change snake.change_speed()\n",
    "#if eventtype is jump-key 2) run snake.change_position()\n",
    "#if eventtype is left 2) run\n",
    "\n",
    "class Snake:\n",
    "    '''\n",
    "    speed: speed of the snake. Default is 10, and can be adjusted for acceleration\n",
    "    length: length of the snake. Default is 3, and will increase by 1 for each apple eaten\n",
    "    num_apples: number of apples in map. (default:10)\n",
    "    Grid_W, Grid_H: Grid_W and Grid_H must be provided when instantiating a Snake object\n",
    "    '''\n",
    "    def __init__(self, num_apples=10, length=3, speed=10, Grid_W, Grid_H):\n",
    "        \n",
    "        self.x = random.randint(5, Grid_W - 6)\n",
    "        self.y = random.randint(5, Grid_H - 6)\n",
    "        \n",
    "        # dictionary to store booleans on directions\n",
    "        # makes it easy to handle directions, tail generation etc.\n",
    "        self.direction_dict = {'left':0, \"right\":1,\"up\":0,\"down\":0}\n",
    "        self.current_direction = 'right'\n",
    "        \n",
    "        self.length = length\n",
    "        self.speed = speed\n",
    "        self.apple_locations = [getRandomLocation() for i in range(num_apples)]\n",
    "            \n",
    "        self.coordinates = [{'x':self.x - i, 'y':self.y} for i in range(self.length)]\n",
    "        self.head = head\n",
    "        \n",
    "        # potentially useful but not necessary features\n",
    "        self.alive = True\n",
    "        self.lifetime = 0\n",
    "        \n",
    "    \n",
    "    def change_position(x_distance, y_distance):\n",
    "        self.x += x_distance\n",
    "        self.y += y_distance\n",
    "        \n",
    "        self.coordinates = [{'x':self.x - self.direction_dict['right']*i + self.direction_dict['left']*i, \n",
    "                             'y':self.y - self.direction_dict['up']*i + self.direction_dict['down']*i} for i in range(self.length)]\n",
    "    \n",
    "    def change_speed(speed_difference):\n",
    "        if self.speed < speed_difference:\n",
    "            #show message \"can't\"\n",
    "        self.speed += speed_difference\n",
    "        \n",
    "    def change_direction(direction):\n",
    "        self.direction_dict[self.current_direction] = 0\n",
    "        self.direction_dict[direction] = 1\n",
    "        self.current_direction = direction\n",
    "\n",
    "    \n",
    "    # shoudl delete\n",
    "    def change_color():\n",
    "        return None\n",
    "    \n",
    "    def change_length():\n",
    "    \n",
    "    def draw_snake(self.coordinates):\n",
    "        for coord in self.coordinates:\n",
    "            x = coord['x'] * Grid_Size\n",
    "            y = coord['y'] * Grid_Size\n",
    "        \n",
    "    # please see whether apple_eaten_list is correct!\n",
    "    # also self.apple_locations not sure\n",
    "    def add_apple(): \n",
    "        apple_eaten_list = [self.head['x'] == num_apples[i]['x'] \n",
    "                           and self.head['y'] == num_apples[i]['y'] \n",
    "                           for i in range(num_apples)]\n",
    "        if sum(apple_eaten_list) == 1 # 0=false, 1=true\n",
    "            i = np.argmax(apple_eaten_list)\n",
    "            del apple_list[i]\n",
    "            self.apple_locations\n",
    "        else:\n",
    "            del self.coordinates[-1]\n",
    "        \n",
    "#     def remove_apple(): \n",
    "        \n",
    "    def death(): \n",
    "        self.alive = False\n",
    "        if self.head['x'] == -1 or self.head['x'] == Grid_W or self.head['y'] == -1 or self.head['y'] == Grid_H:\n",
    "            return \n",
    "        for wormBody in self.coordinates[1:]:\n",
    "            if wormBody['x'] == self.head['x'] and wormBody['y'] == self.head['y']:\n",
    "                return  "
   ]
  },
  {
   "cell_type": "code",
   "execution_count": null,
   "metadata": {},
   "outputs": [],
   "source": [
    "# Show start screen"
   ]
  },
  {
   "cell_type": "code",
   "execution_count": null,
   "metadata": {},
   "outputs": [],
   "source": [
    "# Define how we want to run the game: apple number, keys functions, when we should add one point and becomes longer\n",
    "# For moving snake, move forward means head +1, tail -1"
   ]
  },
  {
   "cell_type": "code",
   "execution_count": null,
   "metadata": {},
   "outputs": [],
   "source": [
    "# How do we quit? Quit function (head hit body or body hit wall), game over!!"
   ]
  },
  {
   "cell_type": "code",
   "execution_count": null,
   "metadata": {},
   "outputs": [],
   "source": [
    "# draw scores, draw snake, draw apple, draw things functions"
   ]
  },
  {
   "cell_type": "code",
   "execution_count": null,
   "metadata": {},
   "outputs": [],
   "source": [
    "# write a main logic to incorporate total functions"
   ]
  },
  {
   "cell_type": "code",
   "execution_count": null,
   "metadata": {},
   "outputs": [],
   "source": [
    "#Game completed!"
   ]
  },
  {
   "cell_type": "code",
   "execution_count": null,
   "metadata": {},
   "outputs": [],
   "source": []
  },
  {
   "cell_type": "code",
   "execution_count": null,
   "metadata": {},
   "outputs": [],
   "source": []
  },
  {
   "cell_type": "code",
   "execution_count": null,
   "metadata": {},
   "outputs": [],
   "source": []
  },
  {
   "cell_type": "code",
   "execution_count": null,
   "metadata": {},
   "outputs": [],
   "source": []
  }
 ],
 "metadata": {
  "kernelspec": {
   "display_name": "Python 3",
   "language": "python",
   "name": "python3"
  },
  "language_info": {
   "codemirror_mode": {
    "name": "ipython",
    "version": 3
   },
   "file_extension": ".py",
   "mimetype": "text/x-python",
   "name": "python",
   "nbconvert_exporter": "python",
   "pygments_lexer": "ipython3",
   "version": "3.6.5"
  }
 },
 "nbformat": 4,
 "nbformat_minor": 2
}
